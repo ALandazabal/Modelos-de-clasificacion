{
 "cells": [
  {
   "cell_type": "code",
   "execution_count": 1,
   "metadata": {},
   "outputs": [],
   "source": [
    "import pandas as pd\n",
    "\n",
    "import nltk\n",
    "from nltk.classify import NaiveBayesClassifier\n",
    "from nltk.tokenize import word_tokenize"
   ]
  },
  {
   "cell_type": "code",
   "execution_count": 2,
   "metadata": {},
   "outputs": [
    {
     "data": {
      "text/html": [
       "<div>\n",
       "<style scoped>\n",
       "    .dataframe tbody tr th:only-of-type {\n",
       "        vertical-align: middle;\n",
       "    }\n",
       "\n",
       "    .dataframe tbody tr th {\n",
       "        vertical-align: top;\n",
       "    }\n",
       "\n",
       "    .dataframe thead th {\n",
       "        text-align: right;\n",
       "    }\n",
       "</style>\n",
       "<table border=\"1\" class=\"dataframe\">\n",
       "  <thead>\n",
       "    <tr style=\"text-align: right;\">\n",
       "      <th></th>\n",
       "      <th>Unnamed: 0</th>\n",
       "      <th>label</th>\n",
       "      <th>text</th>\n",
       "      <th>label_num</th>\n",
       "    </tr>\n",
       "  </thead>\n",
       "  <tbody>\n",
       "    <tr>\n",
       "      <th>0</th>\n",
       "      <td>605</td>\n",
       "      <td>ham</td>\n",
       "      <td>Subject: enron methanol ; meter # : 988291\\r\\n...</td>\n",
       "      <td>0</td>\n",
       "    </tr>\n",
       "    <tr>\n",
       "      <th>1</th>\n",
       "      <td>2349</td>\n",
       "      <td>ham</td>\n",
       "      <td>Subject: hpl nom for january 9 , 2001\\r\\n( see...</td>\n",
       "      <td>0</td>\n",
       "    </tr>\n",
       "    <tr>\n",
       "      <th>2</th>\n",
       "      <td>3624</td>\n",
       "      <td>ham</td>\n",
       "      <td>Subject: neon retreat\\r\\nho ho ho , we ' re ar...</td>\n",
       "      <td>0</td>\n",
       "    </tr>\n",
       "    <tr>\n",
       "      <th>3</th>\n",
       "      <td>4685</td>\n",
       "      <td>spam</td>\n",
       "      <td>Subject: photoshop , windows , office . cheap ...</td>\n",
       "      <td>1</td>\n",
       "    </tr>\n",
       "    <tr>\n",
       "      <th>4</th>\n",
       "      <td>2030</td>\n",
       "      <td>ham</td>\n",
       "      <td>Subject: re : indian springs\\r\\nthis deal is t...</td>\n",
       "      <td>0</td>\n",
       "    </tr>\n",
       "    <tr>\n",
       "      <th>...</th>\n",
       "      <td>...</td>\n",
       "      <td>...</td>\n",
       "      <td>...</td>\n",
       "      <td>...</td>\n",
       "    </tr>\n",
       "    <tr>\n",
       "      <th>5166</th>\n",
       "      <td>1518</td>\n",
       "      <td>ham</td>\n",
       "      <td>Subject: put the 10 on the ft\\r\\nthe transport...</td>\n",
       "      <td>0</td>\n",
       "    </tr>\n",
       "    <tr>\n",
       "      <th>5167</th>\n",
       "      <td>404</td>\n",
       "      <td>ham</td>\n",
       "      <td>Subject: 3 / 4 / 2000 and following noms\\r\\nhp...</td>\n",
       "      <td>0</td>\n",
       "    </tr>\n",
       "    <tr>\n",
       "      <th>5168</th>\n",
       "      <td>2933</td>\n",
       "      <td>ham</td>\n",
       "      <td>Subject: calpine daily gas nomination\\r\\n&gt;\\r\\n...</td>\n",
       "      <td>0</td>\n",
       "    </tr>\n",
       "    <tr>\n",
       "      <th>5169</th>\n",
       "      <td>1409</td>\n",
       "      <td>ham</td>\n",
       "      <td>Subject: industrial worksheets for august 2000...</td>\n",
       "      <td>0</td>\n",
       "    </tr>\n",
       "    <tr>\n",
       "      <th>5170</th>\n",
       "      <td>4807</td>\n",
       "      <td>spam</td>\n",
       "      <td>Subject: important online banking alert\\r\\ndea...</td>\n",
       "      <td>1</td>\n",
       "    </tr>\n",
       "  </tbody>\n",
       "</table>\n",
       "<p>5171 rows × 4 columns</p>\n",
       "</div>"
      ],
      "text/plain": [
       "      Unnamed: 0 label                                               text  \\\n",
       "0            605   ham  Subject: enron methanol ; meter # : 988291\\r\\n...   \n",
       "1           2349   ham  Subject: hpl nom for january 9 , 2001\\r\\n( see...   \n",
       "2           3624   ham  Subject: neon retreat\\r\\nho ho ho , we ' re ar...   \n",
       "3           4685  spam  Subject: photoshop , windows , office . cheap ...   \n",
       "4           2030   ham  Subject: re : indian springs\\r\\nthis deal is t...   \n",
       "...          ...   ...                                                ...   \n",
       "5166        1518   ham  Subject: put the 10 on the ft\\r\\nthe transport...   \n",
       "5167         404   ham  Subject: 3 / 4 / 2000 and following noms\\r\\nhp...   \n",
       "5168        2933   ham  Subject: calpine daily gas nomination\\r\\n>\\r\\n...   \n",
       "5169        1409   ham  Subject: industrial worksheets for august 2000...   \n",
       "5170        4807  spam  Subject: important online banking alert\\r\\ndea...   \n",
       "\n",
       "      label_num  \n",
       "0             0  \n",
       "1             0  \n",
       "2             0  \n",
       "3             1  \n",
       "4             0  \n",
       "...         ...  \n",
       "5166          0  \n",
       "5167          0  \n",
       "5168          0  \n",
       "5169          0  \n",
       "5170          1  \n",
       "\n",
       "[5171 rows x 4 columns]"
      ]
     },
     "execution_count": 2,
     "metadata": {},
     "output_type": "execute_result"
    }
   ],
   "source": [
    "data = pd.read_csv(\"spam_ham_dataset.csv\")\n",
    "data"
   ]
  },
  {
   "cell_type": "code",
   "execution_count": 3,
   "metadata": {},
   "outputs": [],
   "source": [
    "def construirBolsaDePalabras(palabras):\n",
    "    diccionario={}\n",
    "    for palabra in word_tokenize(palabras):\n",
    "        diccionario[palabra]=1\n",
    "        \n",
    "    return diccionario"
   ]
  },
  {
   "cell_type": "code",
   "execution_count": 4,
   "metadata": {},
   "outputs": [],
   "source": [
    "spamList = []\n",
    "hamList = []\n",
    "    \n",
    "for indice_fila, fila in data.iterrows():\n",
    "    if fila['label'] == 'ham':\n",
    "        hamList.append((construirBolsaDePalabras(fila['text']),fila['label']))\n",
    "    else:\n",
    "        spamList.append((construirBolsaDePalabras(fila['text']),fila['label']))"
   ]
  },
  {
   "cell_type": "code",
   "execution_count": 5,
   "metadata": {},
   "outputs": [
    {
     "data": {
      "text/plain": [
       "({'Subject': 1,\n",
       "  ':': 1,\n",
       "  'spring': 1,\n",
       "  'savings': 1,\n",
       "  'certificate': 1,\n",
       "  '-': 1,\n",
       "  'take': 1,\n",
       "  '30': 1,\n",
       "  '%': 1,\n",
       "  'off': 1,\n",
       "  'save': 1,\n",
       "  'when': 1,\n",
       "  'you': 1,\n",
       "  'use': 1,\n",
       "  'our': 1,\n",
       "  'customer': 1,\n",
       "  'appreciation': 1,\n",
       "  'at': 1,\n",
       "  'foot': 1,\n",
       "  'locker': 1,\n",
       "  ',': 1,\n",
       "  'lady': 1,\n",
       "  'kids': 1,\n",
       "  'and': 1,\n",
       "  'online': 1,\n",
       "  'stores': 1,\n",
       "  '!': 1,\n",
       "  'welcome': 1,\n",
       "  'to': 1,\n",
       "  'the': 1,\n",
       "  'special': 1,\n",
       "  'below': 1,\n",
       "  'receive': 1,\n",
       "  'your': 1,\n",
       "  'purchases': 1,\n",
       "  'either': 1,\n",
       "  'in': 1,\n",
       "  'or': 1,\n",
       "  '.': 1,\n",
       "  'hurry': 1,\n",
       "  'this': 1,\n",
       "  '4': 1,\n",
       "  'day': 1,\n",
       "  'sale': 1,\n",
       "  'begins': 1,\n",
       "  'thursday': 1,\n",
       "  'march': 1,\n",
       "  '22': 1,\n",
       "  'ends': 1,\n",
       "  'sunday': 1,\n",
       "  '25': 1,\n",
       "  'share': 1,\n",
       "  'today': 1,\n",
       "  'e': 1,\n",
       "  'mail': 1,\n",
       "  'offer': 1,\n",
       "  'friends': 1,\n",
       "  'many': 1,\n",
       "  'items': 1,\n",
       "  'already': 1,\n",
       "  'are': 1,\n",
       "  'reduced': 1,\n",
       "  'discount': 1,\n",
       "  'is': 1,\n",
       "  'taken': 1,\n",
       "  'lowest': 1,\n",
       "  'price': 1,\n",
       "  'click': 1,\n",
       "  'print': 1,\n",
       "  'must': 1,\n",
       "  'present': 1,\n",
       "  'coupon': 1,\n",
       "  'any': 1,\n",
       "  'store': 1,\n",
       "  'u': 1,\n",
       "  's': 1,\n",
       "  'canada': 1,\n",
       "  'not': 1,\n",
       "  'participating': 1,\n",
       "  'program': 1,\n",
       "  'ready': 1,\n",
       "  'set': 1,\n",
       "  'will': 1,\n",
       "  'automatically': 1,\n",
       "  'appear': 1,\n",
       "  'links': 1,\n",
       "  'type': 1,\n",
       "  'camlem': 1,\n",
       "  '21': 1,\n",
       "  'into': 1,\n",
       "  'promotion': 1,\n",
       "  'code': 1,\n",
       "  'box': 1,\n",
       "  'during': 1,\n",
       "  'checkout': 1,\n",
       "  'footlocker': 1,\n",
       "  'com': 1,\n",
       "  'ladyfootlocker': 1,\n",
       "  'kidsfootlocker': 1,\n",
       "  'remember': 1,\n",
       "  'returns': 1,\n",
       "  'hassle': 1,\n",
       "  'free': 1,\n",
       "  'simply': 1,\n",
       "  'bring': 1,\n",
       "  'of': 1,\n",
       "  'nationwide': 1,\n",
       "  'through': 1,\n",
       "  'don': 1,\n",
       "  \"'\": 1,\n",
       "  't': 1,\n",
       "  'be': 1,\n",
       "  'left': 1,\n",
       "  'out': 1,\n",
       "  'register': 1,\n",
       "  'learn': 1,\n",
       "  'about': 1,\n",
       "  'new': 1,\n",
       "  'products': 1,\n",
       "  'promotions': 1,\n",
       "  'events': 1,\n",
       "  'other': 1,\n",
       "  'specials': 1,\n",
       "  'terms': 1,\n",
       "  'conditions': 1,\n",
       "  'some': 1,\n",
       "  'exclusions': 1,\n",
       "  'apply': 1,\n",
       "  'please': 1,\n",
       "  'see': 1,\n",
       "  'manager': 1,\n",
       "  'for': 1,\n",
       "  'complete': 1,\n",
       "  'details': 1,\n",
       "  'presented': 1,\n",
       "  'time': 1,\n",
       "  'purchase': 1,\n",
       "  'can': 1,\n",
       "  'used': 1,\n",
       "  'conjunction': 1,\n",
       "  'with': 1,\n",
       "  'associate': 1,\n",
       "  'benefit': 1,\n",
       "  'redeemable': 1,\n",
       "  'cash': 1,\n",
       "  'applicable': 1,\n",
       "  'taxes': 1,\n",
       "  'paid': 1,\n",
       "  'by': 1,\n",
       "  'bearer': 1,\n",
       "  'applied': 1,\n",
       "  'prior': 1,\n",
       "  'gift': 1,\n",
       "  'card': 1,\n",
       "  'void': 1,\n",
       "  'where': 1,\n",
       "  'prohibited': 1,\n",
       "  'licensed': 1,\n",
       "  'regulated': 1,\n",
       "  'catalog': 1,\n",
       "  'valid': 1,\n",
       "  '3': 1,\n",
       "  '/': 1,\n",
       "  '01': 1,\n",
       "  'participate': 1,\n",
       "  'if': 1,\n",
       "  'do': 1,\n",
       "  'wish': 1,\n",
       "  'future': 1,\n",
       "  'emails': 1,\n",
       "  'unsubscribe': 1},\n",
       " 'ham')"
      ]
     },
     "execution_count": 5,
     "metadata": {},
     "output_type": "execute_result"
    }
   ],
   "source": [
    "hamList[5]"
   ]
  },
  {
   "cell_type": "code",
   "execution_count": 6,
   "metadata": {},
   "outputs": [],
   "source": [
    "divh=int(len(hamList)*0.95)\n",
    "divs=int(len(spamList)*0.95)\n",
    "clasificadorSentimiento=NaiveBayesClassifier.train(hamList[:divh]+spamList[:divh])"
   ]
  },
  {
   "cell_type": "code",
   "execution_count": 7,
   "metadata": {},
   "outputs": [
    {
     "data": {
      "text/plain": [
       "0.9627030278724684"
      ]
     },
     "execution_count": 7,
     "metadata": {},
     "output_type": "execute_result"
    }
   ],
   "source": [
    "nltk.classify.util.accuracy(clasificadorSentimiento,hamList[:divh]+spamList[:divh])"
   ]
  },
  {
   "cell_type": "code",
   "execution_count": 8,
   "metadata": {},
   "outputs": [
    {
     "data": {
      "text/plain": [
       "0.9510869565217391"
      ]
     },
     "execution_count": 8,
     "metadata": {},
     "output_type": "execute_result"
    }
   ],
   "source": [
    "nltk.classify.util.accuracy(clasificadorSentimiento,hamList[divh:]+spamList[divh:])"
   ]
  },
  {
   "cell_type": "code",
   "execution_count": 9,
   "metadata": {},
   "outputs": [
    {
     "name": "stdout",
     "output_type": "stream",
     "text": [
      "Most Informative Features\n",
      "               forwarded = 1                 ham : spam   =    244.6 : 1.0\n",
      "                     hou = 1                 ham : spam   =    234.3 : 1.0\n",
      "                    2004 = 1                spam : ham    =    186.9 : 1.0\n",
      "                     nom = 1                 ham : spam   =    155.8 : 1.0\n",
      "            prescription = 1                spam : ham    =    152.7 : 1.0\n",
      "                    pain = 1                spam : ham    =    121.7 : 1.0\n",
      "                     ect = 1                 ham : spam   =    103.9 : 1.0\n",
      "                    spam = 1                spam : ham    =    103.1 : 1.0\n",
      "                   cheap = 1                spam : ham    =    101.6 : 1.0\n",
      "                     sex = 1                spam : ham    =     98.5 : 1.0\n"
     ]
    }
   ],
   "source": [
    "clasificadorSentimiento.show_most_informative_features()"
   ]
  },
  {
   "cell_type": "code",
   "execution_count": 10,
   "metadata": {},
   "outputs": [
    {
     "name": "stdout",
     "output_type": "stream",
     "text": [
      "Buy this article and free you got these two pieces.\n",
      "{'Buy': 1, 'this': 1, 'article': 1, 'and': 1, 'free': 1, 'you': 1, 'got': 1, 'these': 1, 'two': 1, 'pieces': 1, '.': 1}\n"
     ]
    }
   ],
   "source": [
    "tweet = \"Buy this article and free you got these two pieces.\"\n",
    "\n",
    "print(tweet)\n",
    "bolsa=construirBolsaDePalabras(tweet)\n",
    "print(bolsa)"
   ]
  },
  {
   "cell_type": "code",
   "execution_count": 11,
   "metadata": {},
   "outputs": [
    {
     "data": {
      "text/plain": [
       "'spam'"
      ]
     },
     "execution_count": 11,
     "metadata": {},
     "output_type": "execute_result"
    }
   ],
   "source": [
    "clasificadorSentimiento.classify(bolsa)"
   ]
  },
  {
   "cell_type": "code",
   "execution_count": null,
   "metadata": {},
   "outputs": [],
   "source": []
  }
 ],
 "metadata": {
  "kernelspec": {
   "display_name": "Python 3",
   "language": "python",
   "name": "python3"
  },
  "language_info": {
   "codemirror_mode": {
    "name": "ipython",
    "version": 3
   },
   "file_extension": ".py",
   "mimetype": "text/x-python",
   "name": "python",
   "nbconvert_exporter": "python",
   "pygments_lexer": "ipython3",
   "version": "3.7.6"
  }
 },
 "nbformat": 4,
 "nbformat_minor": 4
}
